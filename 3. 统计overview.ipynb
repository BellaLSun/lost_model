{
 "cells": [
  {
   "cell_type": "code",
   "execution_count": 2,
   "metadata": {
    "ExecuteTime": {
     "end_time": "2019-12-18T06:27:18.585620Z",
     "start_time": "2019-12-18T06:27:14.784635Z"
    }
   },
   "outputs": [
    {
     "name": "stdout",
     "output_type": "stream",
     "text": [
      "Requirement already satisfied: pandas-profiling in /Users/libaisun/virtual/lib/python3.6/site-packages (2.3.0)\n",
      "Requirement already satisfied: matplotlib>=1.4 in /Users/libaisun/virtual/lib/python3.6/site-packages (from pandas-profiling) (2.2.3)\n",
      "Requirement already satisfied: jinja2>=2.8 in /Users/libaisun/virtual/lib/python3.6/site-packages (from pandas-profiling) (2.10)\n",
      "Requirement already satisfied: confuse>=1.0.0 in /Users/libaisun/virtual/lib/python3.6/site-packages (from pandas-profiling) (1.0.0)\n",
      "Requirement already satisfied: htmlmin>=0.1.12 in /Users/libaisun/virtual/lib/python3.6/site-packages (from pandas-profiling) (0.1.12)\n",
      "Requirement already satisfied: phik>=0.9.8 in /Users/libaisun/virtual/lib/python3.6/site-packages (from pandas-profiling) (0.9.8)\n",
      "Requirement already satisfied: missingno>=0.4.2 in /Users/libaisun/virtual/lib/python3.6/site-packages (from pandas-profiling) (0.4.2)\n",
      "Requirement already satisfied: pandas>=0.19 in /Users/libaisun/virtual/lib/python3.6/site-packages (from pandas-profiling) (0.23.4)\n",
      "Requirement already satisfied: astropy in /Users/libaisun/virtual/lib/python3.6/site-packages (from pandas-profiling) (3.2.1)\n",
      "Requirement already satisfied: six>=1.10 in /Users/libaisun/virtual/lib/python3.6/site-packages (from matplotlib>=1.4->pandas-profiling) (1.11.0)\n",
      "Requirement already satisfied: numpy>=1.7.1 in /Users/libaisun/virtual/lib/python3.6/site-packages (from matplotlib>=1.4->pandas-profiling) (1.17.0)\n",
      "Requirement already satisfied: python-dateutil>=2.1 in /Users/libaisun/virtual/lib/python3.6/site-packages (from matplotlib>=1.4->pandas-profiling) (2.7.3)\n",
      "Requirement already satisfied: pyparsing!=2.0.4,!=2.1.2,!=2.1.6,>=2.0.1 in /Users/libaisun/virtual/lib/python3.6/site-packages (from matplotlib>=1.4->pandas-profiling) (2.2.0)\n",
      "Requirement already satisfied: pytz in /Users/libaisun/virtual/lib/python3.6/site-packages (from matplotlib>=1.4->pandas-profiling) (2018.4)\n",
      "Requirement already satisfied: cycler>=0.10 in /Users/libaisun/virtual/lib/python3.6/site-packages (from matplotlib>=1.4->pandas-profiling) (0.10.0)\n",
      "Requirement already satisfied: kiwisolver>=1.0.1 in /Users/libaisun/virtual/lib/python3.6/site-packages (from matplotlib>=1.4->pandas-profiling) (1.0.1)\n",
      "Requirement already satisfied: MarkupSafe>=0.23 in /Users/libaisun/virtual/lib/python3.6/site-packages (from jinja2>=2.8->pandas-profiling) (1.0)\n",
      "Requirement already satisfied: pyyaml in /Users/libaisun/virtual/lib/python3.6/site-packages (from confuse>=1.0.0->pandas-profiling) (3.13)\n",
      "Requirement already satisfied: pytest>=4.0.2 in /Users/libaisun/virtual/lib/python3.6/site-packages (from phik>=0.9.8->pandas-profiling) (5.1.0)\n",
      "Requirement already satisfied: nbconvert>=5.3.1 in /Users/libaisun/virtual/lib/python3.6/site-packages (from phik>=0.9.8->pandas-profiling) (5.3.1)\n",
      "Requirement already satisfied: pytest-pylint>=0.13.0 in /Users/libaisun/virtual/lib/python3.6/site-packages (from phik>=0.9.8->pandas-profiling) (0.14.1)\n",
      "Requirement already satisfied: scipy>=1.1.0 in /Users/libaisun/virtual/lib/python3.6/site-packages (from phik>=0.9.8->pandas-profiling) (1.1.0)\n",
      "Requirement already satisfied: numba>=0.38.1 in /Users/libaisun/virtual/lib/python3.6/site-packages (from phik>=0.9.8->pandas-profiling) (0.45.1)\n",
      "Requirement already satisfied: jupyter-client>=5.2.3 in /Users/libaisun/virtual/lib/python3.6/site-packages (from phik>=0.9.8->pandas-profiling) (5.2.3)\n",
      "Requirement already satisfied: seaborn in /Users/libaisun/virtual/lib/python3.6/site-packages (from missingno>=0.4.2->pandas-profiling) (0.9.0)\n",
      "Requirement already satisfied: setuptools in /Users/libaisun/virtual/lib/python3.6/site-packages (from kiwisolver>=1.0.1->matplotlib>=1.4->pandas-profiling) (39.1.0)\n",
      "Requirement already satisfied: packaging in /Users/libaisun/virtual/lib/python3.6/site-packages (from pytest>=4.0.2->phik>=0.9.8->pandas-profiling) (19.1)\n",
      "Requirement already satisfied: pluggy<1.0,>=0.12 in /Users/libaisun/virtual/lib/python3.6/site-packages (from pytest>=4.0.2->phik>=0.9.8->pandas-profiling) (0.12.0)\n",
      "Requirement already satisfied: atomicwrites>=1.0 in /Users/libaisun/virtual/lib/python3.6/site-packages (from pytest>=4.0.2->phik>=0.9.8->pandas-profiling) (1.3.0)\n",
      "Requirement already satisfied: importlib-metadata>=0.12; python_version < \"3.8\" in /Users/libaisun/virtual/lib/python3.6/site-packages (from pytest>=4.0.2->phik>=0.9.8->pandas-profiling) (0.19)\n",
      "Requirement already satisfied: attrs>=17.4.0 in /Users/libaisun/virtual/lib/python3.6/site-packages (from pytest>=4.0.2->phik>=0.9.8->pandas-profiling) (18.1.0)\n",
      "Requirement already satisfied: wcwidth in /Users/libaisun/virtual/lib/python3.6/site-packages (from pytest>=4.0.2->phik>=0.9.8->pandas-profiling) (0.1.7)\n",
      "Requirement already satisfied: py>=1.5.0 in /Users/libaisun/virtual/lib/python3.6/site-packages (from pytest>=4.0.2->phik>=0.9.8->pandas-profiling) (1.8.0)\n",
      "Requirement already satisfied: more-itertools>=4.0.0 in /Users/libaisun/virtual/lib/python3.6/site-packages (from pytest>=4.0.2->phik>=0.9.8->pandas-profiling) (4.3.0)\n",
      "Requirement already satisfied: nbformat>=4.4 in /Users/libaisun/virtual/lib/python3.6/site-packages (from nbconvert>=5.3.1->phik>=0.9.8->pandas-profiling) (4.4.0)\n",
      "Requirement already satisfied: pandocfilters>=1.4.1 in /Users/libaisun/virtual/lib/python3.6/site-packages (from nbconvert>=5.3.1->phik>=0.9.8->pandas-profiling) (1.4.2)\n",
      "Requirement already satisfied: pygments in /Users/libaisun/virtual/lib/python3.6/site-packages (from nbconvert>=5.3.1->phik>=0.9.8->pandas-profiling) (2.2.0)\n",
      "Requirement already satisfied: testpath in /Users/libaisun/virtual/lib/python3.6/site-packages (from nbconvert>=5.3.1->phik>=0.9.8->pandas-profiling) (0.3.1)\n",
      "Requirement already satisfied: bleach in /Users/libaisun/virtual/lib/python3.6/site-packages (from nbconvert>=5.3.1->phik>=0.9.8->pandas-profiling) (2.1.3)\n",
      "Requirement already satisfied: mistune>=0.7.4 in /Users/libaisun/virtual/lib/python3.6/site-packages (from nbconvert>=5.3.1->phik>=0.9.8->pandas-profiling) (0.8.3)\n",
      "Requirement already satisfied: entrypoints>=0.2.2 in /Users/libaisun/virtual/lib/python3.6/site-packages (from nbconvert>=5.3.1->phik>=0.9.8->pandas-profiling) (0.2.3)\n",
      "Requirement already satisfied: jupyter-core in /Users/libaisun/virtual/lib/python3.6/site-packages (from nbconvert>=5.3.1->phik>=0.9.8->pandas-profiling) (4.4.0)\n",
      "Requirement already satisfied: traitlets>=4.2 in /Users/libaisun/virtual/lib/python3.6/site-packages (from nbconvert>=5.3.1->phik>=0.9.8->pandas-profiling) (4.3.2)\n",
      "Requirement already satisfied: pylint>=1.4.5 in /Users/libaisun/virtual/lib/python3.6/site-packages (from pytest-pylint>=0.13.0->phik>=0.9.8->pandas-profiling) (2.3.1)\n",
      "Requirement already satisfied: llvmlite>=0.29.0dev0 in /Users/libaisun/virtual/lib/python3.6/site-packages (from numba>=0.38.1->phik>=0.9.8->pandas-profiling) (0.29.0)\n",
      "Requirement already satisfied: tornado>=4.1 in /Users/libaisun/virtual/lib/python3.6/site-packages (from jupyter-client>=5.2.3->phik>=0.9.8->pandas-profiling) (5.0.2)\n",
      "Requirement already satisfied: pyzmq>=13 in /Users/libaisun/virtual/lib/python3.6/site-packages (from jupyter-client>=5.2.3->phik>=0.9.8->pandas-profiling) (17.0.0)\n",
      "Requirement already satisfied: zipp>=0.5 in /Users/libaisun/virtual/lib/python3.6/site-packages (from importlib-metadata>=0.12; python_version < \"3.8\"->pytest>=4.0.2->phik>=0.9.8->pandas-profiling) (0.5.2)\n",
      "Requirement already satisfied: ipython-genutils in /Users/libaisun/virtual/lib/python3.6/site-packages (from nbformat>=4.4->nbconvert>=5.3.1->phik>=0.9.8->pandas-profiling) (0.2.0)\n",
      "Requirement already satisfied: jsonschema!=2.5.0,>=2.4 in /Users/libaisun/virtual/lib/python3.6/site-packages (from nbformat>=4.4->nbconvert>=5.3.1->phik>=0.9.8->pandas-profiling) (2.6.0)\n",
      "Requirement already satisfied: html5lib!=1.0b1,!=1.0b2,!=1.0b3,!=1.0b4,!=1.0b5,!=1.0b6,!=1.0b7,!=1.0b8,>=0.99999999pre in /Users/libaisun/virtual/lib/python3.6/site-packages (from bleach->nbconvert>=5.3.1->phik>=0.9.8->pandas-profiling) (1.0.1)\n",
      "Requirement already satisfied: decorator in /Users/libaisun/virtual/lib/python3.6/site-packages (from traitlets>=4.2->nbconvert>=5.3.1->phik>=0.9.8->pandas-profiling) (4.3.0)\n",
      "Requirement already satisfied: isort<5,>=4.2.5 in /Users/libaisun/virtual/lib/python3.6/site-packages (from pylint>=1.4.5->pytest-pylint>=0.13.0->phik>=0.9.8->pandas-profiling) (4.3.21)\n",
      "Requirement already satisfied: mccabe<0.7,>=0.6 in /Users/libaisun/virtual/lib/python3.6/site-packages (from pylint>=1.4.5->pytest-pylint>=0.13.0->phik>=0.9.8->pandas-profiling) (0.6.1)\n"
     ]
    },
    {
     "name": "stdout",
     "output_type": "stream",
     "text": [
      "Requirement already satisfied: astroid<3,>=2.2.0 in /Users/libaisun/virtual/lib/python3.6/site-packages (from pylint>=1.4.5->pytest-pylint>=0.13.0->phik>=0.9.8->pandas-profiling) (2.2.5)\n",
      "Requirement already satisfied: webencodings in /Users/libaisun/virtual/lib/python3.6/site-packages (from html5lib!=1.0b1,!=1.0b2,!=1.0b3,!=1.0b4,!=1.0b5,!=1.0b6,!=1.0b7,!=1.0b8,>=0.99999999pre->bleach->nbconvert>=5.3.1->phik>=0.9.8->pandas-profiling) (0.5.1)\n",
      "Requirement already satisfied: wrapt in /Users/libaisun/virtual/lib/python3.6/site-packages (from astroid<3,>=2.2.0->pylint>=1.4.5->pytest-pylint>=0.13.0->phik>=0.9.8->pandas-profiling) (1.11.2)\n",
      "Requirement already satisfied: typed-ast>=1.3.0; implementation_name == \"cpython\" in /Users/libaisun/virtual/lib/python3.6/site-packages (from astroid<3,>=2.2.0->pylint>=1.4.5->pytest-pylint>=0.13.0->phik>=0.9.8->pandas-profiling) (1.4.0)\n",
      "Requirement already satisfied: lazy-object-proxy in /Users/libaisun/virtual/lib/python3.6/site-packages (from astroid<3,>=2.2.0->pylint>=1.4.5->pytest-pylint>=0.13.0->phik>=0.9.8->pandas-profiling) (1.4.1)\n",
      "\u001b[33mYou are using pip version 18.1, however version 19.3.1 is available.\n",
      "You should consider upgrading via the 'pip install --upgrade pip' command.\u001b[0m\n"
     ]
    }
   ],
   "source": [
    "import sys\n",
    "!{sys.executable} -m pip install pandas-profiling"
   ]
  },
  {
   "cell_type": "code",
   "execution_count": 3,
   "metadata": {
    "ExecuteTime": {
     "end_time": "2019-12-18T06:27:23.332282Z",
     "start_time": "2019-12-18T06:27:20.780730Z"
    }
   },
   "outputs": [],
   "source": [
    "import numpy as np\n",
    "import pandas as pd\n",
    "import pandas_profiling as pp"
   ]
  },
  {
   "cell_type": "code",
   "execution_count": 4,
   "metadata": {
    "ExecuteTime": {
     "end_time": "2019-12-18T06:27:24.133464Z",
     "start_time": "2019-12-18T06:27:24.059797Z"
    }
   },
   "outputs": [
    {
     "data": {
      "text/html": [
       "<div>\n",
       "<style scoped>\n",
       "    .dataframe tbody tr th:only-of-type {\n",
       "        vertical-align: middle;\n",
       "    }\n",
       "\n",
       "    .dataframe tbody tr th {\n",
       "        vertical-align: top;\n",
       "    }\n",
       "\n",
       "    .dataframe thead th {\n",
       "        text-align: right;\n",
       "    }\n",
       "</style>\n",
       "<table border=\"1\" class=\"dataframe\">\n",
       "  <thead>\n",
       "    <tr style=\"text-align: right;\">\n",
       "      <th></th>\n",
       "      <th>State</th>\n",
       "      <th>Account length</th>\n",
       "      <th>Area code</th>\n",
       "      <th>International plan</th>\n",
       "      <th>Voice mail plan</th>\n",
       "      <th>Number vmail messages</th>\n",
       "      <th>Total day minutes</th>\n",
       "      <th>Total day calls</th>\n",
       "      <th>Total day charge</th>\n",
       "      <th>Total eve minutes</th>\n",
       "      <th>Total eve calls</th>\n",
       "      <th>Total eve charge</th>\n",
       "      <th>Total night minutes</th>\n",
       "      <th>Total night calls</th>\n",
       "      <th>Total night charge</th>\n",
       "      <th>Total intl minutes</th>\n",
       "      <th>Total intl calls</th>\n",
       "      <th>Total intl charge</th>\n",
       "      <th>Customer service calls</th>\n",
       "      <th>Churn</th>\n",
       "    </tr>\n",
       "  </thead>\n",
       "  <tbody>\n",
       "    <tr>\n",
       "      <th>0</th>\n",
       "      <td>KS</td>\n",
       "      <td>128</td>\n",
       "      <td>415</td>\n",
       "      <td>No</td>\n",
       "      <td>Yes</td>\n",
       "      <td>25</td>\n",
       "      <td>265.1</td>\n",
       "      <td>110</td>\n",
       "      <td>45.07</td>\n",
       "      <td>197.4</td>\n",
       "      <td>99</td>\n",
       "      <td>16.78</td>\n",
       "      <td>244.7</td>\n",
       "      <td>91</td>\n",
       "      <td>11.01</td>\n",
       "      <td>10.0</td>\n",
       "      <td>3</td>\n",
       "      <td>2.70</td>\n",
       "      <td>1</td>\n",
       "      <td>False</td>\n",
       "    </tr>\n",
       "    <tr>\n",
       "      <th>1</th>\n",
       "      <td>OH</td>\n",
       "      <td>107</td>\n",
       "      <td>415</td>\n",
       "      <td>No</td>\n",
       "      <td>Yes</td>\n",
       "      <td>26</td>\n",
       "      <td>161.6</td>\n",
       "      <td>123</td>\n",
       "      <td>27.47</td>\n",
       "      <td>195.5</td>\n",
       "      <td>103</td>\n",
       "      <td>16.62</td>\n",
       "      <td>254.4</td>\n",
       "      <td>103</td>\n",
       "      <td>11.45</td>\n",
       "      <td>13.7</td>\n",
       "      <td>3</td>\n",
       "      <td>3.70</td>\n",
       "      <td>1</td>\n",
       "      <td>False</td>\n",
       "    </tr>\n",
       "    <tr>\n",
       "      <th>2</th>\n",
       "      <td>NJ</td>\n",
       "      <td>137</td>\n",
       "      <td>415</td>\n",
       "      <td>No</td>\n",
       "      <td>No</td>\n",
       "      <td>0</td>\n",
       "      <td>243.4</td>\n",
       "      <td>114</td>\n",
       "      <td>41.38</td>\n",
       "      <td>121.2</td>\n",
       "      <td>110</td>\n",
       "      <td>10.30</td>\n",
       "      <td>162.6</td>\n",
       "      <td>104</td>\n",
       "      <td>7.32</td>\n",
       "      <td>12.2</td>\n",
       "      <td>5</td>\n",
       "      <td>3.29</td>\n",
       "      <td>0</td>\n",
       "      <td>False</td>\n",
       "    </tr>\n",
       "    <tr>\n",
       "      <th>3</th>\n",
       "      <td>OH</td>\n",
       "      <td>84</td>\n",
       "      <td>408</td>\n",
       "      <td>Yes</td>\n",
       "      <td>No</td>\n",
       "      <td>0</td>\n",
       "      <td>299.4</td>\n",
       "      <td>71</td>\n",
       "      <td>50.90</td>\n",
       "      <td>61.9</td>\n",
       "      <td>88</td>\n",
       "      <td>5.26</td>\n",
       "      <td>196.9</td>\n",
       "      <td>89</td>\n",
       "      <td>8.86</td>\n",
       "      <td>6.6</td>\n",
       "      <td>7</td>\n",
       "      <td>1.78</td>\n",
       "      <td>2</td>\n",
       "      <td>False</td>\n",
       "    </tr>\n",
       "    <tr>\n",
       "      <th>4</th>\n",
       "      <td>OK</td>\n",
       "      <td>75</td>\n",
       "      <td>415</td>\n",
       "      <td>Yes</td>\n",
       "      <td>No</td>\n",
       "      <td>0</td>\n",
       "      <td>166.7</td>\n",
       "      <td>113</td>\n",
       "      <td>28.34</td>\n",
       "      <td>148.3</td>\n",
       "      <td>122</td>\n",
       "      <td>12.61</td>\n",
       "      <td>186.9</td>\n",
       "      <td>121</td>\n",
       "      <td>8.41</td>\n",
       "      <td>10.1</td>\n",
       "      <td>3</td>\n",
       "      <td>2.73</td>\n",
       "      <td>3</td>\n",
       "      <td>False</td>\n",
       "    </tr>\n",
       "  </tbody>\n",
       "</table>\n",
       "</div>"
      ],
      "text/plain": [
       "  State  Account length  Area code International plan Voice mail plan  \\\n",
       "0    KS             128        415                 No             Yes   \n",
       "1    OH             107        415                 No             Yes   \n",
       "2    NJ             137        415                 No              No   \n",
       "3    OH              84        408                Yes              No   \n",
       "4    OK              75        415                Yes              No   \n",
       "\n",
       "   Number vmail messages  Total day minutes  Total day calls  \\\n",
       "0                     25              265.1              110   \n",
       "1                     26              161.6              123   \n",
       "2                      0              243.4              114   \n",
       "3                      0              299.4               71   \n",
       "4                      0              166.7              113   \n",
       "\n",
       "   Total day charge  Total eve minutes  Total eve calls  Total eve charge  \\\n",
       "0             45.07              197.4               99             16.78   \n",
       "1             27.47              195.5              103             16.62   \n",
       "2             41.38              121.2              110             10.30   \n",
       "3             50.90               61.9               88              5.26   \n",
       "4             28.34              148.3              122             12.61   \n",
       "\n",
       "   Total night minutes  Total night calls  Total night charge  \\\n",
       "0                244.7                 91               11.01   \n",
       "1                254.4                103               11.45   \n",
       "2                162.6                104                7.32   \n",
       "3                196.9                 89                8.86   \n",
       "4                186.9                121                8.41   \n",
       "\n",
       "   Total intl minutes  Total intl calls  Total intl charge  \\\n",
       "0                10.0                 3               2.70   \n",
       "1                13.7                 3               3.70   \n",
       "2                12.2                 5               3.29   \n",
       "3                 6.6                 7               1.78   \n",
       "4                10.1                 3               2.73   \n",
       "\n",
       "   Customer service calls  Churn  \n",
       "0                       1  False  \n",
       "1                       1  False  \n",
       "2                       0  False  \n",
       "3                       2  False  \n",
       "4                       3  False  "
      ]
     },
     "execution_count": 4,
     "metadata": {},
     "output_type": "execute_result"
    }
   ],
   "source": [
    "df = pd.read_csv('churn-bigml-80.csv')\n",
    "df.head()"
   ]
  },
  {
   "cell_type": "code",
   "execution_count": 5,
   "metadata": {
    "ExecuteTime": {
     "end_time": "2019-12-18T06:27:51.652791Z",
     "start_time": "2019-12-18T06:27:24.631322Z"
    }
   },
   "outputs": [],
   "source": [
    "pfr = pp.ProfileReport(df)\n",
    "pfr.to_file('./example.html')"
   ]
  },
  {
   "cell_type": "code",
   "execution_count": 10,
   "metadata": {
    "ExecuteTime": {
     "end_time": "2019-12-18T06:28:12.011381Z",
     "start_time": "2019-12-18T06:28:10.393376Z"
    }
   },
   "outputs": [
    {
     "name": "stdout",
     "output_type": "stream",
     "text": [
      "Requirement already satisfied: pivottablejs in /anaconda3/lib/python3.7/site-packages (0.9.0)\n",
      "\u001b[33mWARNING: You are using pip version 19.2.2, however version 19.3.1 is available.\n",
      "You should consider upgrading via the 'pip install --upgrade pip' command.\u001b[0m\n"
     ]
    }
   ],
   "source": [
    "! pip install pivottablejs"
   ]
  },
  {
   "cell_type": "code",
   "execution_count": 13,
   "metadata": {
    "ExecuteTime": {
     "end_time": "2019-12-18T06:32:38.380191Z",
     "start_time": "2019-12-18T06:32:38.356659Z"
    }
   },
   "outputs": [
    {
     "ename": "ModuleNotFoundError",
     "evalue": "No module named 'pivottablejs'",
     "output_type": "error",
     "traceback": [
      "\u001b[0;31m---------------------------------------------------------------------------\u001b[0m",
      "\u001b[0;31mModuleNotFoundError\u001b[0m                       Traceback (most recent call last)",
      "\u001b[0;32m<ipython-input-13-b72d50f2a703>\u001b[0m in \u001b[0;36m<module>\u001b[0;34m()\u001b[0m\n\u001b[0;32m----> 1\u001b[0;31m \u001b[0;32mfrom\u001b[0m \u001b[0mpivottablejs\u001b[0m \u001b[0;32mimport\u001b[0m \u001b[0mpivot_ui\u001b[0m\u001b[0;34m\u001b[0m\u001b[0m\n\u001b[0m",
      "\u001b[0;31mModuleNotFoundError\u001b[0m: No module named 'pivottablejs'"
     ]
    }
   ],
   "source": [
    "from pivottablejs import pivot_ui"
   ]
  },
  {
   "cell_type": "code",
   "execution_count": 7,
   "metadata": {
    "ExecuteTime": {
     "end_time": "2019-09-08T12:29:06.296058Z",
     "start_time": "2019-09-08T12:29:06.272913Z"
    }
   },
   "outputs": [
    {
     "ename": "NameError",
     "evalue": "name 'pivot_ui' is not defined",
     "output_type": "error",
     "traceback": [
      "\u001b[0;31m---------------------------------------------------------------------------\u001b[0m",
      "\u001b[0;31mNameError\u001b[0m                                 Traceback (most recent call last)",
      "\u001b[0;32m<ipython-input-7-a626df478172>\u001b[0m in \u001b[0;36m<module>\u001b[0;34m()\u001b[0m\n\u001b[0;32m----> 1\u001b[0;31m \u001b[0mpivot_ui\u001b[0m\u001b[0;34m(\u001b[0m\u001b[0mdata\u001b[0m\u001b[0;34m,\u001b[0m\u001b[0moutfile_path\u001b[0m\u001b[0;34m=\u001b[0m\u001b[0;34m'pivottablejs.html'\u001b[0m\u001b[0;34m)\u001b[0m\u001b[0;34m\u001b[0m\u001b[0m\n\u001b[0m",
      "\u001b[0;31mNameError\u001b[0m: name 'pivot_ui' is not defined"
     ]
    }
   ],
   "source": [
    "pivot_ui(data,outfile_path='pivottablejs.html')"
   ]
  },
  {
   "cell_type": "code",
   "execution_count": null,
   "metadata": {},
   "outputs": [],
   "source": []
  }
 ],
 "metadata": {
  "hide_input": false,
  "kernelspec": {
   "display_name": "Python 3",
   "language": "python",
   "name": "python3"
  },
  "language_info": {
   "codemirror_mode": {
    "name": "ipython",
    "version": 3
   },
   "file_extension": ".py",
   "mimetype": "text/x-python",
   "name": "python",
   "nbconvert_exporter": "python",
   "pygments_lexer": "ipython3",
   "version": "3.6.5"
  },
  "toc": {
   "base_numbering": 1,
   "nav_menu": {},
   "number_sections": true,
   "sideBar": true,
   "skip_h1_title": false,
   "title_cell": "Table of Contents",
   "title_sidebar": "Contents",
   "toc_cell": false,
   "toc_position": {},
   "toc_section_display": true,
   "toc_window_display": false
  }
 },
 "nbformat": 4,
 "nbformat_minor": 2
}
